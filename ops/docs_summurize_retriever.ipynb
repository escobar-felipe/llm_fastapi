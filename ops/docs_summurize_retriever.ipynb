{
 "cells": [
  {
   "cell_type": "code",
   "execution_count": 293,
   "metadata": {},
   "outputs": [
    {
     "name": "stdout",
     "output_type": "stream",
     "text": [
      "Requirement already satisfied: langchain in /Users/felipeescobar/Documents/llm_fastapi/venv/lib/python3.10/site-packages (0.2.1)\n",
      "Requirement already satisfied: langchain_community in /Users/felipeescobar/Documents/llm_fastapi/venv/lib/python3.10/site-packages (0.2.1)\n",
      "Requirement already satisfied: langchainhub in /Users/felipeescobar/Documents/llm_fastapi/venv/lib/python3.10/site-packages (0.1.17)\n",
      "Requirement already satisfied: openai in /Users/felipeescobar/Documents/llm_fastapi/venv/lib/python3.10/site-packages (1.30.5)\n",
      "Requirement already satisfied: PyPDF2 in /Users/felipeescobar/Documents/llm_fastapi/venv/lib/python3.10/site-packages (3.0.1)\n",
      "Requirement already satisfied: langchain_qdrant in /Users/felipeescobar/Documents/llm_fastapi/venv/lib/python3.10/site-packages (0.1.0)\n",
      "Requirement already satisfied: tiktoken in /Users/felipeescobar/Documents/llm_fastapi/venv/lib/python3.10/site-packages (0.7.0)\n",
      "Requirement already satisfied: langgraph in /Users/felipeescobar/Documents/llm_fastapi/venv/lib/python3.10/site-packages (0.0.60)\n",
      "Collecting langchain_openai\n",
      "  Downloading langchain_openai-0.1.8-py3-none-any.whl (38 kB)\n",
      "Requirement already satisfied: langchain-text-splitters<0.3.0,>=0.2.0 in /Users/felipeescobar/Documents/llm_fastapi/venv/lib/python3.10/site-packages (from langchain) (0.2.0)\n",
      "Requirement already satisfied: requests<3,>=2 in /Users/felipeescobar/Documents/llm_fastapi/venv/lib/python3.10/site-packages (from langchain) (2.32.3)\n",
      "Requirement already satisfied: aiohttp<4.0.0,>=3.8.3 in /Users/felipeescobar/Documents/llm_fastapi/venv/lib/python3.10/site-packages (from langchain) (3.9.5)\n",
      "Requirement already satisfied: tenacity<9.0.0,>=8.1.0 in /Users/felipeescobar/Documents/llm_fastapi/venv/lib/python3.10/site-packages (from langchain) (8.3.0)\n",
      "Requirement already satisfied: async-timeout<5.0.0,>=4.0.0 in /Users/felipeescobar/Documents/llm_fastapi/venv/lib/python3.10/site-packages (from langchain) (4.0.3)\n",
      "Requirement already satisfied: langchain-core<0.3.0,>=0.2.0 in /Users/felipeescobar/Documents/llm_fastapi/venv/lib/python3.10/site-packages (from langchain) (0.2.3)\n",
      "Requirement already satisfied: pydantic<3,>=1 in /Users/felipeescobar/Documents/llm_fastapi/venv/lib/python3.10/site-packages (from langchain) (2.7.2)\n",
      "Requirement already satisfied: PyYAML>=5.3 in /Users/felipeescobar/Documents/llm_fastapi/venv/lib/python3.10/site-packages (from langchain) (6.0.1)\n",
      "Requirement already satisfied: SQLAlchemy<3,>=1.4 in /Users/felipeescobar/Documents/llm_fastapi/venv/lib/python3.10/site-packages (from langchain) (2.0.30)\n",
      "Requirement already satisfied: langsmith<0.2.0,>=0.1.17 in /Users/felipeescobar/Documents/llm_fastapi/venv/lib/python3.10/site-packages (from langchain) (0.1.67)\n",
      "Requirement already satisfied: numpy<2,>=1 in /Users/felipeescobar/Documents/llm_fastapi/venv/lib/python3.10/site-packages (from langchain) (1.26.4)\n",
      "Requirement already satisfied: dataclasses-json<0.7,>=0.5.7 in /Users/felipeescobar/Documents/llm_fastapi/venv/lib/python3.10/site-packages (from langchain_community) (0.6.6)\n",
      "Requirement already satisfied: types-requests<3.0.0.0,>=2.31.0.2 in /Users/felipeescobar/Documents/llm_fastapi/venv/lib/python3.10/site-packages (from langchainhub) (2.32.0.20240523)\n",
      "Requirement already satisfied: httpx<1,>=0.23.0 in /Users/felipeescobar/Documents/llm_fastapi/venv/lib/python3.10/site-packages (from openai) (0.27.0)\n",
      "Requirement already satisfied: anyio<5,>=3.5.0 in /Users/felipeescobar/Documents/llm_fastapi/venv/lib/python3.10/site-packages (from openai) (4.4.0)\n",
      "Requirement already satisfied: sniffio in /Users/felipeescobar/Documents/llm_fastapi/venv/lib/python3.10/site-packages (from openai) (1.3.1)\n",
      "Requirement already satisfied: distro<2,>=1.7.0 in /Users/felipeescobar/Documents/llm_fastapi/venv/lib/python3.10/site-packages (from openai) (1.9.0)\n",
      "Requirement already satisfied: tqdm>4 in /Users/felipeescobar/Documents/llm_fastapi/venv/lib/python3.10/site-packages (from openai) (4.66.4)\n",
      "Requirement already satisfied: typing-extensions<5,>=4.7 in /Users/felipeescobar/Documents/llm_fastapi/venv/lib/python3.10/site-packages (from openai) (4.12.0)\n",
      "Requirement already satisfied: qdrant-client<2.0.0,>=1.9.0 in /Users/felipeescobar/Documents/llm_fastapi/venv/lib/python3.10/site-packages (from langchain_qdrant) (1.9.1)\n",
      "Requirement already satisfied: regex>=2022.1.18 in /Users/felipeescobar/Documents/llm_fastapi/venv/lib/python3.10/site-packages (from tiktoken) (2024.5.15)\n",
      "Requirement already satisfied: yarl<2.0,>=1.0 in /Users/felipeescobar/Documents/llm_fastapi/venv/lib/python3.10/site-packages (from aiohttp<4.0.0,>=3.8.3->langchain) (1.9.4)\n",
      "Requirement already satisfied: multidict<7.0,>=4.5 in /Users/felipeescobar/Documents/llm_fastapi/venv/lib/python3.10/site-packages (from aiohttp<4.0.0,>=3.8.3->langchain) (6.0.5)\n",
      "Requirement already satisfied: aiosignal>=1.1.2 in /Users/felipeescobar/Documents/llm_fastapi/venv/lib/python3.10/site-packages (from aiohttp<4.0.0,>=3.8.3->langchain) (1.3.1)\n",
      "Requirement already satisfied: attrs>=17.3.0 in /Users/felipeescobar/Documents/llm_fastapi/venv/lib/python3.10/site-packages (from aiohttp<4.0.0,>=3.8.3->langchain) (23.2.0)\n",
      "Requirement already satisfied: frozenlist>=1.1.1 in /Users/felipeescobar/Documents/llm_fastapi/venv/lib/python3.10/site-packages (from aiohttp<4.0.0,>=3.8.3->langchain) (1.4.1)\n",
      "Requirement already satisfied: idna>=2.8 in /Users/felipeescobar/Documents/llm_fastapi/venv/lib/python3.10/site-packages (from anyio<5,>=3.5.0->openai) (3.7)\n",
      "Requirement already satisfied: exceptiongroup>=1.0.2 in /Users/felipeescobar/Documents/llm_fastapi/venv/lib/python3.10/site-packages (from anyio<5,>=3.5.0->openai) (1.2.1)\n",
      "Requirement already satisfied: marshmallow<4.0.0,>=3.18.0 in /Users/felipeescobar/Documents/llm_fastapi/venv/lib/python3.10/site-packages (from dataclasses-json<0.7,>=0.5.7->langchain_community) (3.21.2)\n",
      "Requirement already satisfied: typing-inspect<1,>=0.4.0 in /Users/felipeescobar/Documents/llm_fastapi/venv/lib/python3.10/site-packages (from dataclasses-json<0.7,>=0.5.7->langchain_community) (0.9.0)\n",
      "Requirement already satisfied: certifi in /Users/felipeescobar/Documents/llm_fastapi/venv/lib/python3.10/site-packages (from httpx<1,>=0.23.0->openai) (2024.2.2)\n",
      "Requirement already satisfied: httpcore==1.* in /Users/felipeescobar/Documents/llm_fastapi/venv/lib/python3.10/site-packages (from httpx<1,>=0.23.0->openai) (1.0.5)\n",
      "Requirement already satisfied: h11<0.15,>=0.13 in /Users/felipeescobar/Documents/llm_fastapi/venv/lib/python3.10/site-packages (from httpcore==1.*->httpx<1,>=0.23.0->openai) (0.14.0)\n",
      "Requirement already satisfied: packaging<24.0,>=23.2 in /Users/felipeescobar/Documents/llm_fastapi/venv/lib/python3.10/site-packages (from langchain-core<0.3.0,>=0.2.0->langchain) (23.2)\n",
      "Requirement already satisfied: jsonpatch<2.0,>=1.33 in /Users/felipeescobar/Documents/llm_fastapi/venv/lib/python3.10/site-packages (from langchain-core<0.3.0,>=0.2.0->langchain) (1.33)\n",
      "Requirement already satisfied: jsonpointer>=1.9 in /Users/felipeescobar/Documents/llm_fastapi/venv/lib/python3.10/site-packages (from jsonpatch<2.0,>=1.33->langchain-core<0.3.0,>=0.2.0->langchain) (2.4)\n",
      "Requirement already satisfied: orjson<4.0.0,>=3.9.14 in /Users/felipeescobar/Documents/llm_fastapi/venv/lib/python3.10/site-packages (from langsmith<0.2.0,>=0.1.17->langchain) (3.10.3)\n",
      "Requirement already satisfied: pydantic-core==2.18.3 in /Users/felipeescobar/Documents/llm_fastapi/venv/lib/python3.10/site-packages (from pydantic<3,>=1->langchain) (2.18.3)\n",
      "Requirement already satisfied: annotated-types>=0.4.0 in /Users/felipeescobar/Documents/llm_fastapi/venv/lib/python3.10/site-packages (from pydantic<3,>=1->langchain) (0.7.0)\n",
      "Requirement already satisfied: portalocker<3.0.0,>=2.7.0 in /Users/felipeescobar/Documents/llm_fastapi/venv/lib/python3.10/site-packages (from qdrant-client<2.0.0,>=1.9.0->langchain_qdrant) (2.8.2)\n",
      "Requirement already satisfied: urllib3<3,>=1.26.14 in /Users/felipeescobar/Documents/llm_fastapi/venv/lib/python3.10/site-packages (from qdrant-client<2.0.0,>=1.9.0->langchain_qdrant) (2.2.1)\n",
      "Requirement already satisfied: grpcio-tools>=1.41.0 in /Users/felipeescobar/Documents/llm_fastapi/venv/lib/python3.10/site-packages (from qdrant-client<2.0.0,>=1.9.0->langchain_qdrant) (1.64.0)\n",
      "Requirement already satisfied: grpcio>=1.41.0 in /Users/felipeescobar/Documents/llm_fastapi/venv/lib/python3.10/site-packages (from qdrant-client<2.0.0,>=1.9.0->langchain_qdrant) (1.64.0)\n",
      "Requirement already satisfied: protobuf<6.0dev,>=5.26.1 in /Users/felipeescobar/Documents/llm_fastapi/venv/lib/python3.10/site-packages (from grpcio-tools>=1.41.0->qdrant-client<2.0.0,>=1.9.0->langchain_qdrant) (5.27.0)\n",
      "Requirement already satisfied: setuptools in /Users/felipeescobar/Documents/llm_fastapi/venv/lib/python3.10/site-packages (from grpcio-tools>=1.41.0->qdrant-client<2.0.0,>=1.9.0->langchain_qdrant) (57.4.0)\n",
      "Requirement already satisfied: h2<5,>=3 in /Users/felipeescobar/Documents/llm_fastapi/venv/lib/python3.10/site-packages (from httpx<1,>=0.23.0->openai) (4.1.0)\n",
      "Requirement already satisfied: hpack<5,>=4.0 in /Users/felipeescobar/Documents/llm_fastapi/venv/lib/python3.10/site-packages (from h2<5,>=3->httpx<1,>=0.23.0->openai) (4.0.0)\n",
      "Requirement already satisfied: hyperframe<7,>=6.0 in /Users/felipeescobar/Documents/llm_fastapi/venv/lib/python3.10/site-packages (from h2<5,>=3->httpx<1,>=0.23.0->openai) (6.0.1)\n",
      "Requirement already satisfied: charset-normalizer<4,>=2 in /Users/felipeescobar/Documents/llm_fastapi/venv/lib/python3.10/site-packages (from requests<3,>=2->langchain) (3.3.2)\n",
      "Requirement already satisfied: mypy-extensions>=0.3.0 in /Users/felipeescobar/Documents/llm_fastapi/venv/lib/python3.10/site-packages (from typing-inspect<1,>=0.4.0->dataclasses-json<0.7,>=0.5.7->langchain_community) (1.0.0)\n",
      "Installing collected packages: langchain-openai\n",
      "Successfully installed langchain-openai-0.1.8\n",
      "\u001b[33mWARNING: You are using pip version 21.2.3; however, version 24.0 is available.\n",
      "You should consider upgrading via the '/Users/felipeescobar/Documents/llm_fastapi/venv/bin/python3 -m pip install --upgrade pip' command.\u001b[0m\n"
     ]
    }
   ],
   "source": [
    "!pip install langchain langchain_community langchainhub openai PyPDF2 langchain_qdrant tiktoken langgraph langchain_openai"
   ]
  },
  {
   "cell_type": "code",
   "execution_count": 390,
   "metadata": {},
   "outputs": [],
   "source": [
    "import uuid\n",
    "\n",
    "from langchain.chat_models.openai import ChatOpenAI\n",
    "from langchain.prompts import ChatPromptTemplate\n",
    "from langchain_core.documents import Document\n",
    "from langchain_core.output_parsers import StrOutputParser\n",
    "from langchain.text_splitter import RecursiveCharacterTextSplitter\n",
    "from langchain.retrievers.multi_vector import MultiVectorRetriever\n",
    "from langchain.retrievers.multi_query import MultiQueryRetriever\n",
    "import PyPDF2"
   ]
  },
  {
   "cell_type": "code",
   "execution_count": 183,
   "metadata": {},
   "outputs": [],
   "source": [
    "with open(\"protocolo-clinico-e-diretrizes-terapeuticas-do-tabagismo.pdf\", \"rb\") as file:\n",
    "        reader = PyPDF2.PdfReader(file)\n",
    "        text = \"\"\n",
    "        \n",
    "        for page_num in range(len(reader.pages)):\n",
    "            page = reader.pages[page_num]\n",
    "            text += page.extract_text()"
   ]
  },
  {
   "cell_type": "code",
   "execution_count": 1,
   "metadata": {},
   "outputs": [],
   "source": [
    "api_key = \"\""
   ]
  },
  {
   "cell_type": "code",
   "execution_count": 186,
   "metadata": {},
   "outputs": [],
   "source": [
    "splitter = RecursiveCharacterTextSplitter(chunk_size=4000, chunk_overlap=0)"
   ]
  },
  {
   "cell_type": "code",
   "execution_count": 272,
   "metadata": {},
   "outputs": [],
   "source": [
    "docs = splitter.create_documents([text])\n"
   ]
  },
  {
   "cell_type": "code",
   "execution_count": 273,
   "metadata": {},
   "outputs": [
    {
     "data": {
      "text/plain": [
       "34"
      ]
     },
     "execution_count": 273,
     "metadata": {},
     "output_type": "execute_result"
    }
   ],
   "source": [
    "len(docs)"
   ]
  },
  {
   "cell_type": "code",
   "execution_count": 192,
   "metadata": {},
   "outputs": [],
   "source": [
    "chain = (\n",
    "    {\"doc\": lambda x: x.page_content}\n",
    "    | ChatPromptTemplate.from_template(\"Summarize the following document:\\n\\n{doc}\")\n",
    "    | ChatOpenAI(max_retries=0, api_key =api_key)\n",
    "    | StrOutputParser()\n",
    ")"
   ]
  },
  {
   "cell_type": "code",
   "execution_count": 193,
   "metadata": {},
   "outputs": [],
   "source": [
    "summaries = chain.batch(docs, {\"max_concurrency\": 5})"
   ]
  },
  {
   "cell_type": "code",
   "execution_count": 194,
   "metadata": {},
   "outputs": [
    {
     "data": {
      "text/plain": [
       "['A portaria conjunta nº 10, de 16 de abril de 2020, do Ministério da Saúde, aprova o Protocolo Clínico e Diretrizes Terapêuticas do Tabagismo. O documento considera a necessidade de atualização de parâmetros sobre o tabagismo no Brasil e diretrizes nacionais para diagnóstico, tratamento e acompanhamento dos indivíduos com essa doença. Estabelece que o protocolo seja utilizado pelas Secretarias de Saúde dos Estados, do Distrito Federal e dos Municípios na regulação do acesso assistencial. Também determina que os gestores definam os serviços referenciais e estabeleçam os fluxos para o atendimento dos pacientes com tabagismo. A portaria entra em vigor na data de sua publicação e revoga a Portaria nº 761/SAS/MS, de 21 de junho de 2016. O tabagismo é considerado uma doença epidêmica decorrente da dependência à nicotina, sendo fator causal de várias doenças incapacitantes e fatais, como câncer, doenças cardiovasculares e respiratórias crônicas.',\n",
       " 'O documento descreve as medidas adotadas pelo Brasil para controlar o tabagismo e reduzir a morbimortalidade relacionada ao consumo de derivados do tabaco. O país implementou o Programa Nacional de Controle do Tabagismo em 1989, passando a ser Estado Parte da Convenção-Quadro da OMS para Controle do Tabaco em 2005. Com a implementação destas medidas, a prevalência do tabagismo tem diminuído, com a prevalência entre homens caindo de 43,3% em 1989 para 18,9% em 2013, e entre mulheres de 27,0% para 11,0%. Além disso, foram estabelecidas diretrizes diagnósticas e terapêuticas baseadas em evidências para o SUS, visando promover a cessação do tabagismo.',\n",
       " 'O documento aborda a atualização das diretrizes no âmbito do Sistema Único de Saúde (SUS) em relação ao tratamento do tabagismo, destacando a importância da Atenção Primária para melhores resultados terapêuticos. São apresentados critérios diagnósticos e terapêuticos baseados em evidências científicas, seguindo as recomendações do Ministério da Saúde. O documento também classifica os transtornos relacionados ao uso do tabaco de acordo com a Classificação Estatística Internacional de Doenças e Problemas Relacionados à Saúde (CID-10) e aborda o diagnóstico da dependência à nicotina, explicando como a substância atua no sistema nervoso central.',\n",
       " 'O documento aborda a dependência à nicotina e os critérios para diagnosticá-la, incluindo sintomas de abstinência e tolerância. Descreve o Teste de Fagerström para avaliar o grau de dependência e menciona que o diagnóstico é feito clinicamente, baseado no relato do paciente. Também menciona critérios de inclusão e exclusão para tratamentos de tabagismo no Sistema Único de Saúde (SUS).',\n",
       " 'documento discute casos especiais relacionados ao tratamento do tabagismo. Para tabagistas que tiveram recaídas, é recomendado incentivar a tentativa de cessação novamente, considerando experiências passadas e discutindo estratégias futuras. Para adolescentes, aconselhamento em grupo parece ser mais eficaz, enquanto o uso de bupropiona não é recomendado até mais pesquisas serem feitas. Gestantes e nutrizes devem receber aconselhamento estruturado e tentar parar de fumar sem uso de medicamentos. Para idosos, o tratamento deve ser semelhante ao da população adulta, exceto em casos de comorbidades. Pacientes com tuberculose têm alto risco relacionado ao tabagismo, sendo a cessação fundamental para reduzir esse risco.',\n",
       " 'O documento destaca a importância de medidas de controle do tabagismo em pacientes com tuberculose, câncer, transtornos psiquiátricos e pacientes hospitalizados. Parar de fumar é recomendado para reduzir complicações e melhorar a eficácia dos tratamentos. Recomenda-se o uso de terapias combinadas, incluindo aconselhamento estruturado e farmacoterapia. Para pacientes com transtornos psiquiátricos, como depressão e esquizofrenia, a bupropiona pode ser eficaz na cessação do tabagismo. É importante encaminhar pacientes com histórico psiquiátrico para avaliação e tratamento adequado. Não foram encontradas revisões sistemáticas sobre a redução de sintomas de abstinência em pacientes hospitalizados.',\n",
       " 'Intervenções comportamentais intensivas durante a internação hospitalar, seguidas de suporte após a alta, são eficazes na cessação do tabagismo. A associação de farmacoterapia com aconselhamento intensivo também aumenta as chances de sucesso. Pacientes em instituições de média e longa permanência, como presídios, também se beneficiam de tratamentos para tabagismo. A OMS recomenda diretrizes baseadas em evidências científicas para o tratamento do tabagismo, incluindo abordagens inclusivas e acessíveis. Todos os profissionais de saúde devem ser treinados para oferecer aconselhamento breve a fumantes e encaminhá-los para tratamento adequado. Abordagens breves e mínimas são eficazes e podem ser realizadas em consultas de rotina.',\n",
       " 'O documento aborda a importância de preparar e acompanhar fumantes que desejam parar de fumar, com consultas de duração mínima de 3 a 5 minutos. São sugeridas perguntas para identificar o perfil do fumante e seu interesse em parar de fumar, além de estratégias para ajudá-lo na fase de abstinência. É destacada a importância do acompanhamento contínuo durante o processo de cessação do tabagismo, levando em consideração fatores que podem influenciar o sucesso, como nível de dependência e presença de distúrbios psiquiátricos.',\n",
       " 'O tratamento do tabagismo no SUS consiste em aconselhamento terapêutico estruturado/abordagem intensiva, acompanhado pelo tratamento medicamentoso. O tratamento medicamentoso inclui nicotina e cloridrato de bupropiona, com duração de 12 meses. A avaliação inicial inclui a história tabagística, histórico patológico e grau de dependência da nicotina. O tratamento não medicamentoso envolve a terapia cognitivo-comportamental em sessões periódicas, preferencialmente em grupo. O aconselhamento estruturado deve ser coordenado por profissionais de saúde capacitados. As sessões iniciais abordam motivos para fumar, os primeiros dias sem fumar e estratégias para superar a abstinência.',\n",
       " 'O documento descreve um programa para ajudar os indivíduos a parar de fumar, com sessões que abordam benefícios físicos, estratégias para lidar com o ganho de peso, o papel do álcool, e a importância do apoio interpessoal. Recomenda-se a associação de aconselhamento intensivo com farmacoterapia para tratar a dependência à nicotina. Além disso, são fornecidos manuais para profissionais de saúde e pacientes, e são realizadas sessões de manutenção para prevenir recaídas. A farmacoterapia deve ser evitada em pacientes com contraindicações clínicas ou que optem por não usar medicamentos.',\n",
       " ' O documento descreve opções de tratamento para a dependência de nicotina, como a terapia de reposição de nicotina (TRN) combinada, bupropiona isolada e TRN isolada. Recomenda a avaliação individual do paciente para escolher o tratamento mais adequado e destaca a importância de não usar TRN concomitantemente com o cigarro. Também fornece informações sobre dosagens e esquemas de administração de medicamentos, como adesivos e goma de mascar de nicotina. Além disso, menciona a possibilidade de associação de adesivos para aqueles que fumam mais de 20 cigarros por dia.',\n",
       " 'O documento fornece orientações sobre o uso de bupropiona e terapias de reposição de nicotina para pacientes com diferentes condições de saúde. Recomenda-se uma dose diária matinal de 150 mg de bupropiona, mas pode ser ajustada para pacientes com insuficiência renal crônica ou hepatopatia crônica. Também são listados os principais eventos adversos e contraindicações para o uso de adesivos, goma e pastilha de nicotina, bem como para o cloridrato de bupropiona. Orientações específicas são fornecidas para pacientes com condições cardiovasculares agudas.',\n",
       " 'O documento discute a relação entre convulsões febris na infância, tumores do sistema nervoso central, histórico de traumatismo cranioencefálico, anormalidades no eletroencefalograma e o uso de inibidores da enzima monoamino-oxidase (IMAO). Recomenda-se um período de 15 dias sem uso de IMAO antes de iniciar o tratamento com bupropiona devido ao risco aumentado de convulsões. Medidas auxiliares para auxiliar no tratamento do tabagismo incluem suporte telefônico, materiais de autoajuda e práticas integrativas e complementares em saúde. A monitorização do tratamento do tabagismo é importante, com registro do número de pacientes atendidos, situação em relação ao uso do tabaco e abandono do tratamento. Recomenda-se o acompanhamento por até um ano após a abstinência e a busca ativa de pacientes que abandonaram o tratamento. Os possíveis efeitos adversos dos medicamentos devem ser acompanhados pelo profissional de saúde.',\n",
       " 'O documento aborda a importância do tratamento do tabagismo nas unidades de saúde, com foco na abstinência tabágica como objetivo principal. Destaca a necessidade de intervenções cognitivas e treinamento de habilidades comportamentais, levando em consideração a dependência química e a possibilidade de recaídas. Recomenda a realização do tratamento em qualquer nível de atenção do SUS, com ênfase na Atenção Primária à Saúde. Destaca a importância da capacitação e participação de diversos profissionais de saúde no tratamento do tabagismo, e ressalta a necessidade de prescrição médica para o medicamento cloridrato de bupropiona. Também enfatiza a importância do acompanhamento pós-tratamento e da participação de Agentes Comunitários de Saúde nas ações de cessação do tabagismo.',\n",
       " 'O documento estabelece que os estados e municípios devem manter atualizadas as informações sobre medicamentos, incluindo estoque, distribuição e administração, e enviá-las ao Ministério da Saúde. Também destaca a importância de informar pacientes sobre os riscos e benefícios dos medicamentos prescritos. Além disso, lista diversas referências relacionadas ao controle do tabagismo, incluindo relatórios da OMS e documentos do Ministério da Saúde do Brasil.',\n",
       " 'The document contains a series of guidelines and protocols related to the treatment of tobacco addiction in Brazil, as well as references to international resources and studies on the topic. It includes information on the development of clinical guidelines, grading quality of evidence, and recommendations for decision-making in healthcare. Additionally, it references studies on chronic tolerance to nicotine, addiction treatment methods, and the classification of diseases related to tobacco use.',\n",
       " 'The document is a list of various studies and reviews on smoking cessation interventions for different populations, including young people, pregnant women, adults aged 50 or older, the elderly, individuals with tuberculosis, oncology patients, head and neck cancer patients, individuals in treatment for substance use disorders, individuals with depression, individuals with schizophrenia, hospitalized patients, and prisoners. Each study or review provides information on the effectiveness of different interventions for helping these populations quit smoking.',\n",
       " 'The document is a compilation of various studies and reviews related to smoking cessation, predictors of success in quitting smoking, factors associated with smoking cessation, and different interventions for smoking cessation such as telephone counseling, print-based self-help interventions, hypnotherapy, acupuncture, and mindfulness meditation. It also includes references to resources provided by the Brazilian Ministry of Health related to smoking cessation, such as the electronic drug bulletin and the National List of Essential Medicines.',\n",
       " 'O documento é um termo de consentimento informado para o uso de adesivo de nicotina e cloridrato de bupropiona no tratamento do tabagismo. O paciente declara ter sido informado sobre os benefícios, riscos, contra-indicações e efeitos adversos dos medicamentos, e concorda em usá-los. São listados os possíveis efeitos adversos de cada medicamento e é autorizado o uso das informações do tratamento pelo Ministério da Saúde. O paciente ou responsável legal assina o documento, juntamente com o médico responsável pela prescrição.',\n",
       " 'O documento apresenta um fluxograma de tratamento e uma tabela de medicamentos para o tratamento da dependência à nicotina. Os medicamentos são a Terapia de Reposição de Nicotina Combinada (CTRN) e a Terapia de Reposição de Nicotina Isolada (TRN). O CTRN consiste em adesivos transdérmicos, gomas de mascar e pastilhas, com posologias específicas para cada forma de apresentação. O TRN consiste em gomas de mascar, com posologia também específica. O documento fornece instruções detalhadas sobre a posologia e o modo de uso de cada medicamento, incluindo orientações sobre a aplicação dos adesivos e a mastigação das gomas. Além disso, destaca a importância de seguir corretamente as recomendações e respeitar os intervalos entre as doses.',\n",
       " 'O documento é um protocolo clínico e diretrizes terapêuticas para a dependência de nicotina, com recomendações para profissionais de saúde que atendem pacientes fumantes. Ele inclui instruções detalhadas sobre o uso de terapia de reposição de nicotina isolada, como gomas e pastilhas, e fornece informações sobre a dosagem e o modo de uso. O protocolo foi desenvolvido em parceria com o Instituto Nacional de Câncer e segue diretrizes metodológicas baseadas em evidências clínicas.',\n",
       " 'O documento descreve a definição do escopo e das questões de pesquisa para um Protocolo Clínico e Diretrizes Terapêuticas (PCDT) relacionado ao tratamento do tabagismo. Foi realizado um workshop em maio de 2017 e uma reestruturação metodológica em fevereiro de 2019, com o financiamento do PROADI-SUS. As questões de pesquisa foram estruturadas de acordo com o acrônimo PICOS. Foram realizadas buscas por evidências em bases de dados como MEDLINE e EMBASE, utilizando critérios de inclusão e exclusão. Foram selecionadas Revisões Sistemáticas e Ensaios Clínicos Randomizados para embasar as recomendações do PCDT.',\n",
       " 'O documento descreve a avaliação de estudos sistemáticos para determinar a eficácia e segurança de diferentes abordagens para a cessação do tabagismo. Foram utilizadas ferramentas específicas para avaliar o viés de publicações e foram selecionadas as revisões sistemáticas mais recentes e com baixo risco de viés para responder a diferentes questões relacionadas ao tratamento do tabagismo. Além disso, foram realizadas buscas sistemáticas por revisões sistemáticas para questões relacionadas ao tratamento do tabagismo em situações especiais, como em adolescentes, gestantes, idosos, pacientes com câncer, entre outros.',\n",
       " 'O documento descreve o uso do sistema GRADE para avaliar a qualidade da evidência em um estudo. O sistema classifica a qualidade da evidência em quatro níveis: alto, moderado, baixo e muito baixo. Também descreve o processo de desenvolvimento de recomendações com base nas evidências, considerando os riscos, benefícios, custos, aceitabilidade e barreiras para implementação de intervenções. As recomendações podem ser a favor ou contra a intervenção proposta e podem ser fortes ou condicionais.',\n",
       " 'O documento descreve o processo de elaboração de recomendações para o tratamento da dependência à nicotina, com base em evidências científicas. Foram discutidas questões como a eficácia do aconselhamento estruturado, tratamentos medicamentosos e a combinação de diferentes terapias para a cessação do tabagismo. Recomenda-se o uso de aconselhamento estruturado, condicionado à disponibilidade de recursos e pacientes. Evidências mostram que terapias em grupo são mais eficazes do que outras abordagens, e não há diferenças significativas na eficácia entre profissionais de saúde. A decisão foi baseada em consenso do grupo elaborador e seguiu padrões internacionais de diretrizes.',\n",
       " 'O documento analisa a eficácia de diferentes abordagens no tratamento da dependência à nicotina. Não há diferença na eficácia com o aumento do número de sessões de aconselhamento, mas a combinação de farmacoterapia com aconselhamento estruturado mostrou benefícios significativos. O uso de terapia de reposição de nicotina (TRN) foi mais eficaz do que o placebo para a cessação do tabagismo aos seis meses, com algumas diferenças nos benefícios entre diferentes esquemas terapêuticos. Alguns efeitos colaterais estão associados ao uso de TRN. Recomenda-se a combinação de farmacoterapia com aconselhamento estruturado para o tratamento da dependência à nicotina.',\n",
       " 'O documento discute a eficácia e segurança da terapia de reposição de nicotina combinada em comparação com a terapia de reposição de nicotina isolada, concluindo que a terapia combinada é mais eficaz. Também compara o uso de bupropiona com placebo para o tratamento da dependência de nicotina, concluindo que a bupropiona é mais eficaz. No entanto, não há diferença significativa na eficácia entre a bupropiona e a terapia de reposição de nicotina isolada. Recomenda-se o uso da terapia combinada de reposição de nicotina e bupropiona para o tratamento da dependência de nicotina.',\n",
       " 'O documento avalia estudos sobre os efeitos adversos e a eficácia do tratamento da dependência à nicotina com bupropiona e terapia de reposição de nicotina (TRN). Conclui-se que a combinação de bupropiona com TRN não é mais eficaz do que a TRN isolada, mas pode ser oferecida para pacientes que não se beneficiam da TRN isolada. A qualidade da evidência é baixa. Além disso, o tratamento com TRN combinada é considerado mais eficaz e seguro do que o tratamento com bupropiona. A qualidade da evidência é alta nesse caso.',\n",
       " 'O documento discute a baixa qualidade de evidência relacionada aos eventos adversos de tratamentos para cessação do tabagismo, destacando uma maior incidência de efeitos colaterais entre os participantes que utilizaram combinações de tratamentos de reposição de nicotina em comparação com aqueles que utilizaram bupropiona. Os efeitos colaterais mais comuns incluem boca seca, alteração no paladar, distúrbios do sono, sonhos anormais, náuseas, irritação na pele, na boca e na garganta, soluços, flatulência e dispepsia. O documento também menciona várias referências sobre diretrizes clínicas e estudos relacionados ao tratamento do tabagismo.',\n",
       " 'The document contains a summary of various studies and systematic reviews on different doses, durations, and modes of delivery of nicotine replacement therapy for smoking cessation, group behavior therapy programs for smoking cessation, physician advice for smoking cessation, and the effectiveness and safety of nicotine replacement therapy assisted reduction to stop smoking. It also includes information on adverse events associated with nicotine replacement therapy, pharmacological interventions for smoking cessation, and the effectiveness of smoking cessation therapies. Additionally, the document presents studies on the neuropsychiatric safety and efficacy of various medications for smoking cessation, including varenicline, bupropion, and the nicotine patch, as well as randomized trials of different combinations of these medications for smoking cessation.',\n",
       " 'O documento avalia a eficácia do aconselhamento estruturado, aconselhamento breve ou cuidado usual em relação à cessação do tabagismo. São apresentados dados de diferentes estudos, indicando que o aconselhamento estruturado pode ser mais eficaz do que o aconselhamento breve ou cuidado usual. Além disso, é avaliada a eficácia do tratamento medicamentoso associado ao aconselhamento estruturado em comparação com o tratamento medicamentoso isolado para a cessação do tabagismo, com resultados indicando que a combinação é mais eficaz. São apresentadas as principais evidências e considerações sobre cada situação.',\n",
       " 'O documento avalia a eficácia e segurança do tratamento combinado de terapia de reposição de nicotina (TRN) em comparação com a TRN isolada para a cessação do tabagismo. A análise mostra que a combinação de TRN é mais eficaz para a cessação do tabagismo, com uma diferença de risco de 1,25 (95% CI 1,15-1,36) em comparação com a TRN isolada. No entanto, a combinação de TRN também está associada a mais eventos adversos, como náuseas, indigestão e problemas bucais. Em relação ao tratamento com bupropiona versus TRN isolada, não há diferença significativa em termos de eficácia para a cessação do tabagismo, com um risco relativo de 1,03 (95% CI 0,92-1,14). No entanto, a bupropiona também está associada a eventos adversos. Em geral, a combinação de TRN parece ser mais eficaz, mas também mais propensa a eventos adversos, enquanto a bupropiona não se mostrou significativamente mais eficaz do que a TRN isolada.',\n",
       " 'O documento analisa estudos que avaliaram a eficácia e segurança da bupropiona em comparação com a terapia de reposição de nicotina (TRN) isolada para parar de fumar. Os estudos mostram que a bupropiona associada à TRN isolada pode ter uma eficácia ligeiramente maior na cessação do tabagismo, mas também pode causar mais eventos adversos, como boca seca, náusea, tontura e irritação da pele. No entanto, a certeza da evidência é considerada muito baixa devido a problemas metodológicos nos estudos. Portanto, não há uma conclusão definitiva sobre qual tratamento é mais eficaz e seguro.',\n",
       " 'O documento analisa vários estudos sobre o tratamento com bupropiona e combinação de TRN para a cessação do tabagismo. Entre os estudos analisados, alguns apresentaram problemas metodológicos, como falta de cegamento e incerteza sobre randomização e sigilo de alocação. No entanto, acredita-se que esses problemas não influenciam significativamente os resultados. Alguns estudos encontraram diferenças nos eventos adversos entre os grupos de tratamento, mas outros não encontraram diferenças significativas. Em relação à eficácia, um estudo mostrou que a combinação de TRN teve uma proporção maior de relatos de eventos adversos do que a bupropiona. No geral, a evidência é considerada de qualidade variável e mais estudos são necessários para confirmar a eficácia e segurança dos tratamentos.']"
      ]
     },
     "execution_count": 194,
     "metadata": {},
     "output_type": "execute_result"
    }
   ],
   "source": [
    "summaries"
   ]
  },
  {
   "cell_type": "code",
   "execution_count": 397,
   "metadata": {},
   "outputs": [
    {
     "name": "stderr",
     "output_type": "stream",
     "text": [
      "/Users/felipeescobar/Documents/llm_fastapi/venv/lib/python3.10/site-packages/qdrant_client/qdrant_remote.py:130: UserWarning: Api key is used with an insecure connection.\n",
      "  warnings.warn(\"Api key is used with an insecure connection.\")\n"
     ]
    }
   ],
   "source": [
    "from langchain_qdrant import Qdrant\n",
    "from langchain.embeddings import OpenAIEmbeddings\n",
    "from langchain.storage import InMemoryByteStore\n",
    "from qdrant_client import QdrantClient\n",
    "from qdrant_client.http.models import models\n",
    "\n",
    "qdrant_client = QdrantClient(\n",
    "    api_key=\"woXKPNeAD8uq1fVpLLPrDMX5AM4xyjAnLDPzszQuzZKFn\",\n",
    "    https=False,\n",
    ")\n",
    "\n",
    "try:\n",
    "    qdrant_client.get_collection(collection_name=\"summaries-tgs\")\n",
    "except Exception as e:\n",
    "    qdrant_client.create_collection(collection_name=\"summaries-tgs\",vectors_config=models.VectorParams(\n",
    "                size=1536, distance=models.Distance.COSINE\n",
    "            ))\n",
    "    \n",
    "embedding_function=OpenAIEmbeddings(api_key =api_key)\n",
    "\n",
    "vectorstore = Qdrant(client=qdrant_client ,collection_name=\"summaries-tgs\",embeddings=embedding_function)\n",
    "\n",
    "# The storage layer for the parent documents\n",
    "store = InMemoryByteStore()\n",
    "\n",
    "id_key = \"doc_id\"\n",
    "\n",
    "retriever = MultiVectorRetriever(\n",
    "    vectorstore=vectorstore,\n",
    "    byte_store=store,\n",
    "    id_key=id_key,\n",
    ")\n",
    "\n",
    "# retriever = vectorstore.as_retriever(\n",
    "#     search_type=\"similarity_score_threshold\", search_kwargs={\"score_threshold\": 0.5}\n",
    "# )\n",
    "# retriever = vectorstore.as_retriever(\n",
    "#             search_type=\"mmr\",\n",
    "#             search_kwargs={\"k\": 5, \"lambda_mult\": 0.25, \"fetch_k\": 50},\n",
    "#         )\n",
    "doc_ids = [str(uuid.uuid4()) for _ in docs]"
   ]
  },
  {
   "cell_type": "code",
   "execution_count": 275,
   "metadata": {},
   "outputs": [],
   "source": [
    "summary_docs = [\n",
    "    Document(page_content=s, metadata={id_key: doc_ids[i]})\n",
    "    for i, s in enumerate(summaries)\n",
    "]"
   ]
  },
  {
   "cell_type": "code",
   "execution_count": 276,
   "metadata": {},
   "outputs": [],
   "source": [
    "retriever.vectorstore.add_documents(summary_docs)\n",
    "\n",
    "retriever.docstore.mset(list(zip(doc_ids, docs)))"
   ]
  },
  {
   "cell_type": "code",
   "execution_count": 316,
   "metadata": {},
   "outputs": [],
   "source": [
    "#docs = retriever.get_relevant_documents(query=\"qual abordagem breve a todo fumante?\")"
   ]
  }
 ],
 "metadata": {
  "kernelspec": {
   "display_name": "venv",
   "language": "python",
   "name": "python3"
  },
  "language_info": {
   "codemirror_mode": {
    "name": "ipython",
    "version": 3
   },
   "file_extension": ".py",
   "mimetype": "text/x-python",
   "name": "python",
   "nbconvert_exporter": "python",
   "pygments_lexer": "ipython3",
   "version": "3.10.0"
  }
 },
 "nbformat": 4,
 "nbformat_minor": 2
}
